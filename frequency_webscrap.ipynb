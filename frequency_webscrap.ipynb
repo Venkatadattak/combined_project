{
 "cells": [
  {
   "cell_type": "code",
   "execution_count": 29,
   "metadata": {},
   "outputs": [],
   "source": [
    "from bs4 import BeautifulSoup\n",
    "import urllib.request"
   ]
  },
  {
   "cell_type": "code",
   "execution_count": 30,
   "metadata": {},
   "outputs": [],
   "source": [
    "import nltk"
   ]
  },
  {
   "cell_type": "code",
   "execution_count": 31,
   "metadata": {},
   "outputs": [],
   "source": [
    "response = urllib.request.urlopen('http://php.net/')\n",
    "html = response.read()\n",
    "soup = BeautifulSoup(html,\"html5lib\")"
   ]
  },
  {
   "cell_type": "code",
   "execution_count": 32,
   "metadata": {},
   "outputs": [],
   "source": [
    "a=soup.find_all(\"p\")"
   ]
  },
  {
   "cell_type": "code",
   "execution_count": 43,
   "metadata": {},
   "outputs": [
    {
     "data": {
      "text/plain": [
       "'\\n    06 May 2021\\n    \\n      PHP 8.0.6 Released!\\n    \\n  '"
      ]
     },
     "execution_count": 43,
     "metadata": {},
     "output_type": "execute_result"
    }
   ],
   "source": [
    "soup.body.header.text"
   ]
  },
  {
   "cell_type": "code",
   "execution_count": 33,
   "metadata": {},
   "outputs": [
    {
     "data": {
      "text/plain": [
       "'PHP is a popular general-purpose scripting language that is especially suited to web development.'"
      ]
     },
     "execution_count": 33,
     "metadata": {},
     "output_type": "execute_result"
    }
   ],
   "source": [
    "a[0].text.replace(\"<p>\")"
   ]
  },
  {
   "cell_type": "code",
   "execution_count": 6,
   "metadata": {},
   "outputs": [],
   "source": [
    "list=[]\n",
    "for i in range(len(a)):\n",
    "    list.append(a[i].text.replace(\"<p>\",\"\"))"
   ]
  },
  {
   "cell_type": "code",
   "execution_count": 7,
   "metadata": {},
   "outputs": [
    {
     "data": {
      "text/plain": [
       "['PHP is a popular general-purpose scripting language that is especially suited to web development.',\n",
       " 'Fast, flexible and pragmatic, PHP powers everything from your blog to the most popular websites in the world.',\n",
       " 'The PHP development team announces the immediate availability of PHP \\n8.0.6. This release reverts a bug related to PDO_pgsql that was \\nintroduced in PHP 8.0.5.',\n",
       " 'PHP 8.0 users that use PDO_pgsql are encouraged to upgrade to this version.',\n",
       " 'For source downloads of PHP 8.0.6 please visit our downloads page,\\nWindows source and binaries can be found on windows.php.net/download/.\\nThe list of changes is recorded in the ChangeLog.\\n',\n",
       " 'The PHP development team announces the immediate availability of PHP\\n7.4.19. This release reverts a bug related to PDO_pgsql that was\\nintroduced in PHP 7.4.18.',\n",
       " 'PHP 7.4 users that use PDO_pgsql are encouraged to upgrade to this version.',\n",
       " 'For source downloads of PHP 7.4.19 please visit our downloads page,\\nWindows source and binaries can be found on windows.php.net/download/.\\nThe list of changes is recorded in the ChangeLog.\\n',\n",
       " 'The PHP development team announces the immediate availability of PHP 7.4.18. This is a security release.',\n",
       " 'All PHP 7.4 users are encouraged to upgrade to this version.',\n",
       " 'For source downloads of PHP 7.4.18 please visit our downloads page,\\nWindows source and binaries can be found on windows.php.net/download/.\\nThe list of changes is recorded in the ChangeLog.\\n',\n",
       " 'The PHP development team announces the immediate availability of PHP 8.0.5. This is a bug fix release.',\n",
       " 'All PHP 8.0 users are encouraged to upgrade to this version.',\n",
       " 'For source downloads of PHP 8.0.5 please visit our downloads page,\\nWindows source and binaries can be found on windows.php.net/download/.\\nThe list of changes is recorded in the ChangeLog.\\n',\n",
       " 'The PHP development team announces the immediate availability of PHP 7.3.28. This is a security release.',\n",
       " 'All PHP 7.3 users are encouraged to upgrade to this version.',\n",
       " 'For source downloads of PHP 7.3.28 please visit our downloads page,\\nWindows source and binaries can be found on windows.php.net/download/.\\nThe list of changes is recorded in the ChangeLog.\\n',\n",
       " '\\n     As announced\\n     on the php.internals mailing list, a pair of\\n     malicious\\n     commits\\n     were made in the PHP source code repository over the weekend.\\n     These commits were immediately noticed and reverted,\\n     and thus never reached end users.\\n     The investigation into the root cause and exact scope of the\\n     compromise is still ongoing, therefore releases will be put\\n     on hold for two weeks assuming no further issues are discovered.\\n     ',\n",
       " '\\n     Thank you for bearing with us while we endeavor to ensure that\\n     PHP is a stable and reliable platform for web development.\\n     ',\n",
       " 'The PHP development team announces the immediate availability of PHP 8.0.3. This is a bug fix release.',\n",
       " 'All PHP 8.0 users are encouraged to upgrade to this version.',\n",
       " 'For source downloads of PHP 8.0.3 please visit our downloads page,\\nWindows source and binaries can be found on windows.php.net/download/.\\nThe list of changes is recorded in the ChangeLog.\\n',\n",
       " 'The PHP development team announces the immediate availability of PHP 7.4.16. This is a bug fix release.',\n",
       " 'All PHP 7.4 users are encouraged to upgrade to this version.',\n",
       " 'For source downloads of PHP 7.4.16 please visit our downloads page,\\nWindows source and binaries can be found on windows.php.net/download/.\\nThe list of changes is recorded in the ChangeLog.\\n',\n",
       " 'The PHP development team announces the immediate availability of PHP 8.0.2. This is a bug fix release.',\n",
       " 'All PHP 8.0 users are encouraged to upgrade to this version.',\n",
       " 'For source downloads of PHP 8.0.2 please visit our downloads page,\\nWindows source and binaries can be found on windows.php.net/download/.\\nThe list of changes is recorded in the ChangeLog.\\n',\n",
       " 'The PHP development team announces the immediate availability of PHP 7.4.15. This is a security release.',\n",
       " 'All PHP 7.4 users are encouraged to upgrade to this version.',\n",
       " 'For source downloads of PHP 7.4.15 please visit our downloads page,\\nWindows source and binaries can be found on windows.php.net/download/.\\nThe list of changes is recorded in the ChangeLog.\\n',\n",
       " 'The PHP development team announces the immediate availability of PHP 7.3.27. This is a security release.',\n",
       " 'All PHP 7.3 users are encouraged to upgrade to this version.',\n",
       " 'For source downloads of PHP 7.3.27 please visit our downloads page,\\n      Windows source and binaries can be found on windows.php.net/download/.\\n      The list of changes is recorded in the ChangeLog.\\n      ',\n",
       " 'The PHP development team announces the immediate availability of PHP 8.0.1. This is a bug fix release.',\n",
       " 'All PHP 8.0 users are encouraged to upgrade to this version.',\n",
       " 'For source downloads of PHP 8.0.1 please visit our downloads page,\\nWindows source and binaries can be found on windows.php.net/download/.\\nThe list of changes is recorded in the ChangeLog.\\n',\n",
       " 'The PHP development team announces the immediate availability of PHP 7.3.26. This is a security release.',\n",
       " 'All PHP 7.3 users are encouraged to upgrade to this version.',\n",
       " 'For source downloads of PHP 7.3.26 please visit our downloads page,\\nWindows source and binaries can be found on windows.php.net/download/.\\nThe list of changes is recorded in the ChangeLog.\\n',\n",
       " 'The PHP development team announces the immediate availability of PHP 7.4.14. This is a security release.',\n",
       " 'All PHP 7.4 users are encouraged to upgrade to this version.',\n",
       " 'For source downloads of PHP 7.4.14 please visit our downloads page,\\nWindows source and binaries can be found on windows.php.net/download/.\\nThe list of changes is recorded in the ChangeLog.\\n',\n",
       " 'The PHP development team announces the immediate availability of PHP 8.0.0. This release marks the latest major release of the PHP language.',\n",
       " 'PHP 8.0 comes with numerous improvements and new features such as:',\n",
       " 'Take a look at the PHP 8.0 Announcement Addendum for more information.',\n",
       " 'For source downloads of PHP 8.0.0 please visit our downloads page,\\nWindows source and binaries can be found on windows.php.net/download/.\\nThe list of changes is recorded in the ChangeLog.\\n',\n",
       " 'The migration guide is available in the PHP Manual.\\nPlease consult it for the detailed list of new features and backward incompatible changes.',\n",
       " 'Many thanks to all the contributors and supporters!',\n",
       " 'The PHP development team announces the immediate availability of PHP 7.3.25. This is a bug fix release.',\n",
       " 'All PHP 7.3 users are encouraged to upgrade to this version.',\n",
       " 'For source downloads of PHP 7.3.25 please visit our downloads page,\\nWindows source and binaries can be found on windows.php.net/download/.\\nThe list of changes is recorded in the ChangeLog.\\n',\n",
       " 'The PHP development team announces the immediate availability of PHP 7.4.13. This is a bug fix release.',\n",
       " 'All PHP 7.4 users are encouraged to upgrade to this version.',\n",
       " 'For source downloads of PHP 7.4.13 please visit our downloads page,\\nWindows source and binaries can be found on windows.php.net/download/.\\nThe list of changes is recorded in the ChangeLog.\\n',\n",
       " '\\n        The PHP team is pleased to announce the eleventh testing release of PHP 8.0.0, Release Candidate 5.\\n      ',\n",
       " \"\\n        This is an extra unplanned release, but we're not planning to adjust the GA date,\\n        however, this may change during the course of the RC cycle.\\n        The updated release schedule can, as always, be found on the\\n        PHP Wiki page about the PHP 8.0.\\n      \",\n",
       " 'For source downloads of PHP 8.0.0 Release Candidate 5 please visit the download page.',\n",
       " 'Please carefully test this version and report any issues found in the bug reporting system.',\n",
       " 'Please DO NOT use this version in production, it is an early test version.',\n",
       " '\\n        For more information on the new features and other changes, you can read the\\n        NEWS file,\\n        or the UPGRADING\\n        file for a complete list of upgrading notes. These files can also be found in the release archive.\\n      ',\n",
       " 'The next release will be the General Availability, planned for Nov 26 2020.',\n",
       " 'The signatures for the release can be found in the manifest or on the QA site.',\n",
       " 'Thank you for helping us make PHP better.',\n",
       " '\\n        The PHP team is pleased to announce the tenth testing release of PHP 8.0.0, Release Candidate 4.\\n      ',\n",
       " \"\\n        At this time, we're not planning to adjust the GA date,\\n        however this may change during the course of the RC cycle.\\n        The updated release schedule can, as always, be found on the\\n        PHP Wiki page about the PHP 8.0.\\n      \",\n",
       " 'For source downloads of PHP 8.0.0 Release Candidate 4 please visit the download page.',\n",
       " 'Please carefully test this version and report any issues found in the bug reporting system.',\n",
       " 'Please DO NOT use this version in production, it is an early test version.',\n",
       " '\\n        For more information on the new features and other changes, you can read the\\n        NEWS file,\\n        or the UPGRADING\\n        file for a complete list of upgrading notes. These files can also be found in the release archive.\\n      ',\n",
       " 'The next release will be the General Availability, planned for Nov 26 2020.',\n",
       " 'The signatures for the release can be found in the manifest or on the QA site.',\n",
       " 'Thank you for helping us make PHP better.',\n",
       " 'The PHP development team announces the immediate availability of PHP 7.4.12. This is a bug fix release.',\n",
       " 'All PHP 7.4 users are encouraged to upgrade to this version.',\n",
       " 'For source downloads of PHP 7.4.12 please visit our downloads page,\\nWindows source and binaries can be found on windows.php.net/download/.\\nThe list of changes is recorded in the ChangeLog.\\n',\n",
       " '\\n        The PHP team is pleased to announce the tenth testing release of PHP 8.0.0, Release Candidate 3.\\n      ',\n",
       " \"\\n        At this time, we're not planning to adjust the GA date,\\n        however this may change during the course of the RC cycle.\\n        The updated release schedule can, as always, be found on the\\n        PHP Wiki page about the PHP 8.0.\\n      \",\n",
       " 'For source downloads of PHP 8.0.0 Release Candidate 3 please visit the download page.',\n",
       " 'Please carefully test this version and report any issues found in the bug reporting system.',\n",
       " 'Please DO NOT use this version in production, it is an early test version.',\n",
       " '\\n        For more information on the new features and other changes, you can read the\\n        NEWS file,\\n        or the UPGRADING\\n        file for a complete list of upgrading notes. These files can also be found in the release archive.\\n      ',\n",
       " 'The next release will be the Release Candidate 4, planned for Nov 12 2020.',\n",
       " 'The signatures for the release can be found in the manifest or on the QA site.',\n",
       " 'Thank you for helping us make PHP better.',\n",
       " 'The PHP development team announces the immediate availability of PHP 7.3.24. This is a bug fix release.',\n",
       " 'All PHP 7.3 users are encouraged to upgrade to this version.',\n",
       " 'For source downloads of PHP 7.3.24 please visit our downloads page,\\nWindows source and binaries can be found on windows.php.net/download/.\\nThe list of changes is recorded in the ChangeLog.\\n',\n",
       " '\\n        The PHP team is pleased to announce the ninth testing release of PHP 8.0.0, Release Candidate 2.\\n      ',\n",
       " \"\\n        At this time, we're not planning to adjust the GA date,\\n        however this may change during the course of the RC cycle.\\n        The updated release schedule can, as always, be found on the\\n        PHP Wiki page about the PHP 8.0.\\n      \",\n",
       " 'For source downloads of PHP 8.0.0 Release Candidate 2 please visit the download page.',\n",
       " 'Please carefully test this version and report any issues found in the bug reporting system.',\n",
       " 'Please DO NOT use this version in production, it is an early test version.',\n",
       " '\\n        For more information on the new features and other changes, you can read the\\n        NEWS file,\\n        or the UPGRADING\\n        file for a complete list of upgrading notes. These files can also be found in the release archive.\\n      ',\n",
       " 'The next release will be the Release Candidate 3, planned for Oct 29 2020.',\n",
       " 'The signatures for the release can be found in the manifest or on the QA site.',\n",
       " 'Thank you for helping us make PHP better.',\n",
       " '\\n        The PHP team is pleased to announce the eighth testing release of PHP 8.0.0, Release Candidate 1.\\n      ',\n",
       " \"\\n        At this time, we're not planning to adjust the GA date,\\n        however this may change during the course of the RC cycle.\\n        The updated release schedule can, as always, be found on the\\n        PHP Wiki page about the PHP 8.0.\\n      \",\n",
       " 'For source downloads of PHP 8.0.0 Release Candidate 1 please visit the download page.',\n",
       " 'Please carefully test this version and report any issues found in the bug reporting system.',\n",
       " 'Please DO NOT use this version in production, it is an early test version.',\n",
       " '\\n        For more information on the new features and other changes, you can read the\\n        NEWS file,\\n        or the UPGRADING\\n        file for a complete list of upgrading notes. These files can also be found in the release archive.\\n      ',\n",
       " 'The next release will be the Release Candidate 2, planned for Oct 15 2020.',\n",
       " 'The signatures for the release can be found in the manifest or on the QA site.',\n",
       " 'Thank you for helping us make PHP better.',\n",
       " 'The PHP development team announces the immediate availability of PHP 7.3.23. This is a security release.',\n",
       " 'All PHP 7.3 users are encouraged to upgrade to this version.',\n",
       " 'For source downloads of PHP 7.3.23 please visit our downloads page,\\nWindows source and binaries can be found on windows.php.net/download/.\\nThe list of changes is recorded in the ChangeLog.\\n',\n",
       " 'Older News Entries',\n",
       " 'User Group Events',\n",
       " 'Special Thanks',\n",
       " '\\n      Social media\\n      ',\n",
       " '']"
      ]
     },
     "execution_count": 7,
     "metadata": {},
     "output_type": "execute_result"
    }
   ],
   "source": [
    "list"
   ]
  },
  {
   "cell_type": "code",
   "execution_count": 8,
   "metadata": {},
   "outputs": [],
   "source": [
    "a=''.join(list)"
   ]
  },
  {
   "cell_type": "code",
   "execution_count": 9,
   "metadata": {},
   "outputs": [],
   "source": [
    "from nltk.corpus import stopwords\n",
    "stop=stopwords.words('english')"
   ]
  },
  {
   "cell_type": "code",
   "execution_count": 10,
   "metadata": {},
   "outputs": [
    {
     "data": {
      "text/plain": [
       "'!\"#$%&\\'()*+,-./:;<=>?@[\\\\]^_`{|}~'"
      ]
     },
     "execution_count": 10,
     "metadata": {},
     "output_type": "execute_result"
    }
   ],
   "source": [
    "import string\n",
    "string.punctuation"
   ]
  },
  {
   "cell_type": "code",
   "execution_count": 14,
   "metadata": {},
   "outputs": [],
   "source": [
    "clean_data=[]\n",
    "for word in nltk.word_tokenize(a):\n",
    "    if word not in stop:\n",
    "        if word not in string.punctuation:\n",
    "                clean_data.append(word)\n",
    "    \n",
    "    "
   ]
  },
  {
   "cell_type": "code",
   "execution_count": 15,
   "metadata": {},
   "outputs": [
    {
     "data": {
      "text/plain": [
       "1347"
      ]
     },
     "execution_count": 15,
     "metadata": {},
     "output_type": "execute_result"
    }
   ],
   "source": [
    "len(clean_data)"
   ]
  },
  {
   "cell_type": "code",
   "execution_count": 16,
   "metadata": {},
   "outputs": [],
   "source": [
    "from sklearn.feature_extraction.text import CountVectorizer"
   ]
  },
  {
   "cell_type": "code",
   "execution_count": 17,
   "metadata": {},
   "outputs": [],
   "source": [
    "v=CountVectorizer(ngram_range=(1,1))"
   ]
  },
  {
   "cell_type": "code",
   "execution_count": 18,
   "metadata": {},
   "outputs": [
    {
     "data": {
      "text/plain": [
       "<1347x199 sparse matrix of type '<class 'numpy.int64'>'\n",
       "\twith 1409 stored elements in Compressed Sparse Row format>"
      ]
     },
     "execution_count": 18,
     "metadata": {},
     "output_type": "execute_result"
    }
   ],
   "source": [
    "v.fit_transform(clean_data)"
   ]
  },
  {
   "cell_type": "code",
   "execution_count": 21,
   "metadata": {},
   "outputs": [],
   "source": [
    "a=v.get_feature_names()"
   ]
  },
  {
   "cell_type": "code",
   "execution_count": 22,
   "metadata": {},
   "outputs": [
    {
     "data": {
      "text/plain": [
       "199"
      ]
     },
     "execution_count": 22,
     "metadata": {},
     "output_type": "execute_result"
    }
   ],
   "source": [
    "len(a)"
   ]
  },
  {
   "cell_type": "code",
   "execution_count": null,
   "metadata": {},
   "outputs": [],
   "source": []
  }
 ],
 "metadata": {
  "kernelspec": {
   "display_name": "Python 3",
   "language": "python",
   "name": "python3"
  },
  "language_info": {
   "codemirror_mode": {
    "name": "ipython",
    "version": 3
   },
   "file_extension": ".py",
   "mimetype": "text/x-python",
   "name": "python",
   "nbconvert_exporter": "python",
   "pygments_lexer": "ipython3",
   "version": "3.7.1"
  }
 },
 "nbformat": 4,
 "nbformat_minor": 2
}
